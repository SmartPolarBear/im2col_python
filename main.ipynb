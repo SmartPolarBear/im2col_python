{
 "cells": [
  {
   "cell_type": "code",
   "execution_count": 1,
   "outputs": [],
   "source": [
    "import numpy as np\n",
    "\n",
    "data = np.array(np.random.permutation(np.arange(stop=5 * 5 * 3)).reshape((3, 5, 5)), dtype=float)\n",
    "\n",
    "kernels = np.array(\n",
    "    np.random.permutation(np.arange(stop=3 * 3 * 4)).reshape((4, 3, 3)), dtype=float\n",
    ")\n",
    "\n",
    "bias = 0"
   ],
   "metadata": {
    "collapsed": false,
    "pycharm": {
     "name": "#%%\n"
    }
   }
  },
  {
   "cell_type": "code",
   "execution_count": 2,
   "outputs": [
    {
     "name": "stdout",
     "output_type": "stream",
     "text": [
      "data:\n",
      "[[[73. 10. 43. 16. 37.]\n",
      "  [ 1. 52. 74. 22.  7.]\n",
      "  [19. 26. 42. 50. 51.]\n",
      "  [59. 57.  9. 53.  4.]\n",
      "  [54. 36. 71. 39. 56.]]\n",
      "\n",
      " [[20. 29. 58. 11. 17.]\n",
      "  [18. 32. 14. 46.  0.]\n",
      "  [31. 44. 45. 28. 23.]\n",
      "  [35. 60. 12. 64. 15.]\n",
      "  [63.  6. 69. 40. 24.]]\n",
      "\n",
      " [[21. 25.  2. 68. 61.]\n",
      "  [72.  8. 30. 38. 66.]\n",
      "  [47.  3. 34. 27. 65.]\n",
      "  [48.  5. 55. 49. 41.]\n",
      "  [13. 70. 33. 62. 67.]]]\n",
      "kernels:\n",
      "[[[13. 11. 24.]\n",
      "  [25. 30. 20.]\n",
      "  [22. 21. 14.]]\n",
      "\n",
      " [[17.  8. 28.]\n",
      "  [ 2. 23. 18.]\n",
      "  [26.  5. 33.]]\n",
      "\n",
      " [[ 3.  4. 10.]\n",
      "  [31.  9. 12.]\n",
      "  [32. 19. 16.]]\n",
      "\n",
      " [[35. 27.  7.]\n",
      "  [34.  1.  6.]\n",
      "  [15. 29.  0.]]]\n",
      "bias:\n",
      "0\n"
     ]
    }
   ],
   "source": [
    "print(\"data:\", data, \"kernels:\", kernels, \"bias:\", bias, sep='\\n')"
   ],
   "metadata": {
    "collapsed": false,
    "pycharm": {
     "name": "#%%\n"
    }
   }
  },
  {
   "cell_type": "markdown",
   "source": [
    "## Naive"
   ],
   "metadata": {
    "collapsed": false,
    "pycharm": {
     "name": "#%% md\n"
    }
   }
  },
  {
   "cell_type": "code",
   "execution_count": 3,
   "outputs": [],
   "source": [
    "from naive import conv2d as naive_conv"
   ],
   "metadata": {
    "collapsed": false,
    "pycharm": {
     "name": "#%%\n"
    }
   }
  },
  {
   "cell_type": "code",
   "execution_count": 4,
   "outputs": [
    {
     "name": "stdout",
     "output_type": "stream",
     "text": [
      "[[[17414. 17822. 19547.]\n",
      "  [18812. 19197. 19405.]\n",
      "  [21332. 21521. 22969.]]\n",
      "\n",
      " [[16636. 15346. 17977.]\n",
      "  [16448. 19325. 14843.]\n",
      "  [19728. 18559. 21893.]]\n",
      "\n",
      " [[13120. 13055. 15418.]\n",
      "  [15015. 14424. 14418.]\n",
      "  [17261. 17338. 17310.]]\n",
      "\n",
      " [[13905. 14172. 16391.]\n",
      "  [16260. 14415. 18510.]\n",
      "  [16817. 18474. 17837.]]]\n"
     ]
    }
   ],
   "source": [
    "print(naive_conv(data, kernels, bias))"
   ],
   "metadata": {
    "collapsed": false,
    "pycharm": {
     "name": "#%%\n"
    }
   }
  },
  {
   "cell_type": "markdown",
   "source": [
    "## im2col"
   ],
   "metadata": {
    "collapsed": false,
    "pycharm": {
     "name": "#%% md\n"
    }
   }
  },
  {
   "cell_type": "code",
   "execution_count": 5,
   "outputs": [],
   "source": [
    "from im2col import im2col\n",
    "from im2col import conv2d as im2col_conv2d"
   ],
   "metadata": {
    "collapsed": false,
    "pycharm": {
     "name": "#%%\n"
    }
   }
  },
  {
   "cell_type": "code",
   "execution_count": 6,
   "outputs": [
    {
     "name": "stdout",
     "output_type": "stream",
     "text": [
      "[[[17414. 17822. 19547.]\n",
      "  [18812. 19197. 19405.]\n",
      "  [21332. 21521. 22969.]]\n",
      "\n",
      " [[16636. 15346. 17977.]\n",
      "  [16448. 19325. 14843.]\n",
      "  [19728. 18559. 21893.]]\n",
      "\n",
      " [[13120. 13055. 15418.]\n",
      "  [15015. 14424. 14418.]\n",
      "  [17261. 17338. 17310.]]\n",
      "\n",
      " [[13905. 14172. 16391.]\n",
      "  [16260. 14415. 18510.]\n",
      "  [16817. 18474. 17837.]]]\n"
     ]
    }
   ],
   "source": [
    "print(im2col_conv2d(data, kernels, bias))"
   ],
   "metadata": {
    "collapsed": false,
    "pycharm": {
     "name": "#%%\n"
    }
   }
  },
  {
   "cell_type": "code",
   "execution_count": 6,
   "outputs": [],
   "source": [],
   "metadata": {
    "collapsed": false,
    "pycharm": {
     "name": "#%%\n"
    }
   }
  }
 ],
 "metadata": {
  "kernelspec": {
   "display_name": "Python 3",
   "language": "python",
   "name": "python3"
  },
  "language_info": {
   "codemirror_mode": {
    "name": "ipython",
    "version": 2
   },
   "file_extension": ".py",
   "mimetype": "text/x-python",
   "name": "python",
   "nbconvert_exporter": "python",
   "pygments_lexer": "ipython2",
   "version": "2.7.6"
  }
 },
 "nbformat": 4,
 "nbformat_minor": 0
}