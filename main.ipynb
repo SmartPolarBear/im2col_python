{
 "cells": [
  {
   "cell_type": "code",
   "execution_count": 7,
   "outputs": [],
   "source": [
    "import numpy as np\n",
    "\n",
    "F = 5\n",
    "C = 3\n",
    "K = 3\n",
    "\n",
    "data = np.array(np.random.permutation(np.arange(stop=F * F * C)).reshape((C, F, F)), dtype=float)\n",
    "\n",
    "kernels = np.array(\n",
    "    np.random.permutation(np.arange(stop=K * K * C)).reshape((C, K, K)), dtype=float\n",
    ")\n",
    "\n",
    "bias = 0"
   ],
   "metadata": {
    "collapsed": false,
    "pycharm": {
     "name": "#%%\n"
    }
   }
  },
  {
   "cell_type": "code",
   "execution_count": 8,
   "outputs": [
    {
     "name": "stdout",
     "output_type": "stream",
     "text": [
      "data:\n",
      "[[[31. 71. 34. 39. 61.]\n",
      "  [10. 26. 50. 22.  9.]\n",
      "  [32. 72. 51. 49.  8.]\n",
      "  [35. 14. 43. 58. 54.]\n",
      "  [46. 74. 17. 13. 47.]]\n",
      "\n",
      " [[15.  0. 28. 53. 55.]\n",
      "  [48. 24. 42.  1. 12.]\n",
      "  [52. 21. 11. 36. 45.]\n",
      "  [38. 41. 40. 25. 59.]\n",
      "  [ 3. 64. 68. 16. 57.]]\n",
      "\n",
      " [[ 4. 23. 33.  5.  7.]\n",
      "  [37. 63. 73. 67. 19.]\n",
      "  [ 2. 69. 27. 56. 30.]\n",
      "  [18. 60. 65. 66. 29.]\n",
      "  [70. 62. 20. 44.  6.]]]\n",
      "kernels:\n",
      "[[[ 1. 20. 19.]\n",
      "  [14. 24. 18.]\n",
      "  [ 0. 21. 26.]]\n",
      "\n",
      " [[ 2.  9.  7.]\n",
      "  [10. 12.  6.]\n",
      "  [11.  8. 15.]]\n",
      "\n",
      " [[ 4. 16. 22.]\n",
      "  [17.  5. 13.]\n",
      "  [23. 25.  3.]]]\n",
      "bias:\n",
      "0\n"
     ]
    }
   ],
   "source": [
    "print(\"data:\", data, \"kernels:\", kernels, \"bias:\", bias, sep='\\n')"
   ],
   "metadata": {
    "collapsed": false,
    "pycharm": {
     "name": "#%%\n"
    }
   }
  },
  {
   "cell_type": "markdown",
   "source": [
    "## Naive"
   ],
   "metadata": {
    "collapsed": false,
    "pycharm": {
     "name": "#%% md\n"
    }
   }
  },
  {
   "cell_type": "code",
   "execution_count": 9,
   "outputs": [],
   "source": [
    "from naive import conv2d as naive_conv"
   ],
   "metadata": {
    "collapsed": false,
    "pycharm": {
     "name": "#%%\n"
    }
   }
  },
  {
   "cell_type": "code",
   "execution_count": 10,
   "outputs": [
    {
     "name": "stdout",
     "output_type": "stream",
     "text": [
      "[[13605. 13496. 11406.]\n",
      " [14377. 17239. 13974.]\n",
      " [15461. 14112. 14144.]]\n"
     ]
    }
   ],
   "source": [
    "print(naive_conv(data, kernels, bias))"
   ],
   "metadata": {
    "collapsed": false,
    "pycharm": {
     "name": "#%%\n"
    }
   }
  },
  {
   "cell_type": "markdown",
   "source": [
    "## im2col"
   ],
   "metadata": {
    "collapsed": false,
    "pycharm": {
     "name": "#%% md\n"
    }
   }
  },
  {
   "cell_type": "code",
   "execution_count": 11,
   "outputs": [],
   "source": [
    "from im2col import im2col\n",
    "from im2col import conv2d as im2col_conv2d"
   ],
   "metadata": {
    "collapsed": false,
    "pycharm": {
     "name": "#%%\n"
    }
   }
  },
  {
   "cell_type": "code",
   "execution_count": 12,
   "outputs": [
    {
     "name": "stdout",
     "output_type": "stream",
     "text": [
      "[[13605. 13496. 11406.]\n",
      " [14377. 17239. 13974.]\n",
      " [15461. 14112. 14144.]]\n"
     ]
    }
   ],
   "source": [
    "print(im2col_conv2d(data, kernels, bias))"
   ],
   "metadata": {
    "collapsed": false,
    "pycharm": {
     "name": "#%%\n"
    }
   }
  },
  {
   "cell_type": "markdown",
   "source": [
    "## Memory strides"
   ],
   "metadata": {
    "collapsed": false,
    "pycharm": {
     "name": "#%% md\n"
    }
   }
  },
  {
   "cell_type": "code",
   "execution_count": 12,
   "outputs": [],
   "source": [],
   "metadata": {
    "collapsed": false,
    "pycharm": {
     "name": "#%%\n"
    }
   }
  }
 ],
 "metadata": {
  "kernelspec": {
   "display_name": "Python 3",
   "language": "python",
   "name": "python3"
  },
  "language_info": {
   "codemirror_mode": {
    "name": "ipython",
    "version": 2
   },
   "file_extension": ".py",
   "mimetype": "text/x-python",
   "name": "python",
   "nbconvert_exporter": "python",
   "pygments_lexer": "ipython2",
   "version": "2.7.6"
  }
 },
 "nbformat": 4,
 "nbformat_minor": 0
}